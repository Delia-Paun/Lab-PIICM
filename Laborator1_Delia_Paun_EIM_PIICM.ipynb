{
  "nbformat": 4,
  "nbformat_minor": 0,
  "metadata": {
    "colab": {
      "provenance": [],
      "toc_visible": true
    },
    "kernelspec": {
      "name": "python3",
      "display_name": "Python 3"
    }
  },
  "cells": [
    {
      "cell_type": "markdown",
      "metadata": {
        "id": "HyH9wsqKliOU"
      },
      "source": [
        "# Introducere\n",
        "- Google Colabs\n",
        "- GitHub\n",
        "- Python\n"
      ]
    },
    {
      "cell_type": "markdown",
      "metadata": {
        "id": "lMGVVb9zl0WT"
      },
      "source": [
        "#Python\n",
        "**Librării utile**\n",
        "- Numpy\n",
        "- Panda\n",
        "- scikit-learn\n",
        "- Matplotlib\n",
        "- Keras\n",
        "\n"
      ]
    },
    {
      "cell_type": "code",
      "metadata": {
        "id": "cXKFOZyqnQ_Y"
      },
      "source": [
        "import pandas as pd \n",
        "import numpy as np \n",
        "from matplotlib import pyplot as plt\n",
        "import scipy.io as sio\n",
        "import keras\n"
      ],
      "execution_count": null,
      "outputs": []
    },
    {
      "cell_type": "markdown",
      "metadata": {
        "id": "Bs5DvFRnrH1Y"
      },
      "source": [
        "#Noțiuni de bază"
      ]
    },
    {
      "cell_type": "markdown",
      "metadata": {
        "id": "vJN81dxwp8kJ"
      },
      "source": [
        "**Operații simple**"
      ]
    },
    {
      "cell_type": "code",
      "metadata": {
        "id": "xhGjoI2qpFpY",
        "colab": {
          "base_uri": "https://localhost:8080/"
        },
        "outputId": "fff6bdc9-70a4-4cc1-e50a-8943cc32f5f2"
      },
      "source": [
        "a = 5\n",
        "b = 7\n",
        "s1 = a+b\n",
        "s2 = a-b\n",
        "s3 = a/b\n",
        "s4 = a*b\n",
        "print('Rezultatul adunării este:'+ str(s1)) #funția str() - transformă numărul in stringș funcția print() afișează variabila\n",
        "print('Rezultatul scăderii este:'+ str(s2))\n",
        "print('Rezultatul impărțirii este:'+ str(s3))\n",
        "print('Rezultatul înmulțirii este:'+ str(s4))\n",
        "print(type(a))"
      ],
      "execution_count": null,
      "outputs": [
        {
          "output_type": "stream",
          "name": "stdout",
          "text": [
            "Rezultatul adunării este:12\n",
            "Rezultatul scăderii este:-2\n",
            "Rezultatul impărțirii este:0.7142857142857143\n",
            "Rezultatul înmulțirii este:35\n",
            "<class 'int'>\n"
          ]
        }
      ]
    },
    {
      "cell_type": "markdown",
      "metadata": {
        "id": "TPEs4jI1qzlF"
      },
      "source": [
        "**Vectori si matrici**"
      ]
    },
    {
      "cell_type": "code",
      "metadata": {
        "id": "UrIi3syWpU3m",
        "colab": {
          "base_uri": "https://localhost:8080/"
        },
        "outputId": "a9a3343d-2938-46b6-d6b2-095516cd2284"
      },
      "source": [
        "a = [1,2,3,4,5,6,7,8,9,10]\n",
        "print(a)\n"
      ],
      "execution_count": null,
      "outputs": [
        {
          "output_type": "stream",
          "name": "stdout",
          "text": [
            "[1, 2, 3, 4, 5, 6, 7, 8, 9, 10]\n"
          ]
        }
      ]
    },
    {
      "cell_type": "code",
      "metadata": {
        "id": "mctReuaQrNsI",
        "colab": {
          "base_uri": "https://localhost:8080/"
        },
        "outputId": "fa3f0a28-fc84-49a0-ac6c-2a1834af1da7"
      },
      "source": [
        "a = list(range(1,11)) #try changing range(1,11)\n",
        "print(a)"
      ],
      "execution_count": null,
      "outputs": [
        {
          "output_type": "stream",
          "name": "stdout",
          "text": [
            "[1, 2, 3, 4, 5, 6, 7, 8, 9, 10]\n"
          ]
        }
      ]
    },
    {
      "cell_type": "code",
      "metadata": {
        "id": "awYorhurr7L1",
        "colab": {
          "base_uri": "https://localhost:8080/"
        },
        "outputId": "077598f2-5922-4376-dda4-9e49d300afc0"
      },
      "source": [
        "a = np.zeros(10)\n",
        "print(a)"
      ],
      "execution_count": null,
      "outputs": [
        {
          "output_type": "stream",
          "name": "stdout",
          "text": [
            "[0. 0. 0. 0. 0. 0. 0. 0. 0. 0.]\n"
          ]
        }
      ]
    },
    {
      "cell_type": "code",
      "metadata": {
        "id": "1CQOL4W9tVZx",
        "colab": {
          "base_uri": "https://localhost:8080/"
        },
        "outputId": "cc52beda-00ed-4901-a044-ebfcff35ac5a"
      },
      "source": [
        "a = np.random.randn(10)\n",
        "print('10 numere aleatorii')\n",
        "print(a)\n",
        "a = 10+np.random.randn(10)\n",
        "print(a)"
      ],
      "execution_count": null,
      "outputs": [
        {
          "output_type": "stream",
          "name": "stdout",
          "text": [
            "10 numere aleatorii\n",
            "[-0.44283647  0.00915476 -0.22830781  0.23039141  0.48685116  1.17669671\n",
            "  0.6921239  -1.34712251  0.352549   -0.82764874]\n",
            "[11.86151364  9.79067106 10.82745149 10.22777499 10.65766758 11.86440663\n",
            "  9.33840749 10.24025601 10.18503915  9.17158366]\n"
          ]
        }
      ]
    },
    {
      "cell_type": "code",
      "metadata": {
        "id": "9GBH7e59tISf",
        "colab": {
          "base_uri": "https://localhost:8080/"
        },
        "outputId": "f8167206-000d-4e61-e09f-4e23572ede47"
      },
      "source": [
        "a = [[0, 0, 0, 0],\n",
        "     [0, 0, 0, 0],\n",
        "     [0, 0, 0, 0],\n",
        "     [0, 0, 0, 0]]\n",
        "print(a)\n",
        "print(type(a))"
      ],
      "execution_count": null,
      "outputs": [
        {
          "output_type": "stream",
          "name": "stdout",
          "text": [
            "[[0, 0, 0, 0], [0, 0, 0, 0], [0, 0, 0, 0], [0, 0, 0, 0]]\n",
            "<class 'list'>\n"
          ]
        }
      ]
    },
    {
      "cell_type": "code",
      "metadata": {
        "id": "2PoYvoAptxYp",
        "colab": {
          "base_uri": "https://localhost:8080/"
        },
        "outputId": "38a6c7dd-0b90-4616-eab8-646ed8e2d3b2"
      },
      "source": [
        "a = np.zeros((4,4))\n",
        "print(a)\n",
        "print(type(a))"
      ],
      "execution_count": null,
      "outputs": [
        {
          "output_type": "stream",
          "name": "stdout",
          "text": [
            "[[0. 0. 0. 0.]\n",
            " [0. 0. 0. 0.]\n",
            " [0. 0. 0. 0.]\n",
            " [0. 0. 0. 0.]]\n",
            "<class 'numpy.ndarray'>\n"
          ]
        }
      ]
    },
    {
      "cell_type": "code",
      "metadata": {
        "id": "Xpqzbmb9uSGj",
        "colab": {
          "base_uri": "https://localhost:8080/"
        },
        "outputId": "f3e62dd1-b07d-4043-9382-75c2078fb3f6"
      },
      "source": [
        "a = [[1, 4, 5, 12], \n",
        "    [-5, 8, 9, 0],\n",
        "    [-6, 7, 11, 19]]\n",
        "\n",
        "print('Primul rand din matrice')\n",
        "print(a[0])\n",
        "print('Primul element din matrice')\n",
        "print(a[0][0])\n",
        "print('Elementul i=2 (rand), j=1(coloana)')\n",
        "print(a[2][1])\n",
        "print(type(a))"
      ],
      "execution_count": null,
      "outputs": [
        {
          "output_type": "stream",
          "name": "stdout",
          "text": [
            "Primul rand din matrice\n",
            "[1, 4, 5, 12]\n",
            "Primul element din matrice\n",
            "1\n",
            "Elementul i=2 (rand), j=1(coloana)\n",
            "7\n",
            "<class 'list'>\n"
          ]
        }
      ]
    },
    {
      "cell_type": "markdown",
      "metadata": {
        "id": "s8LXCaG1nmzz"
      },
      "source": [
        "#Exercițiu 1a\n",
        "Calculați și afișați valoarea:\n",
        "[3546 + (7901-621)] * 2\n",
        "\n",
        "\n"
      ]
    },
    {
      "cell_type": "code",
      "metadata": {
        "id": "4fSmtqWvwKLU",
        "colab": {
          "base_uri": "https://localhost:8080/"
        },
        "outputId": "ceafd5c8-23bc-4476-9ea5-c4af2c153720"
      },
      "source": [
        "a = 3546\n",
        "b = 7901\n",
        "c = 621\n",
        "s1 = b - c\n",
        "s2 = a + s1\n",
        "s3 = s2 * 2\n",
        "#print('Rezultatul scaderii este:'+ str(s1))\n",
        "#print('Rezultatul adunarii este:'+str(s2))\n",
        "print('Rezultatul operatiei de mai sus este:'+str(s3))"
      ],
      "execution_count": null,
      "outputs": [
        {
          "output_type": "stream",
          "name": "stdout",
          "text": [
            "Rezultatul operatiei de mai sus este:21652\n"
          ]
        }
      ]
    },
    {
      "cell_type": "markdown",
      "metadata": {
        "id": "iIysJ0lEwO8Z"
      },
      "source": [
        "#Exercițiu 1b\n",
        "1.Creați și afișați o matrice de (3,3) elemente\n",
        "\n",
        "2.Afișați elementul de pe linia trei coloana trei a matricei create"
      ]
    },
    {
      "cell_type": "code",
      "metadata": {
        "id": "alk9nfM9xpAB",
        "colab": {
          "base_uri": "https://localhost:8080/"
        },
        "outputId": "3e08adfb-046a-41ab-f0ff-87c1d08014af"
      },
      "source": [
        "# 1\n",
        "a = np.array([[12, 27, 13],\n",
        "     [5, 10, 99],\n",
        "     [8, 78, 110]])\n",
        "print(a)\n",
        "\n",
        "# 2\n",
        "print('Elementul i=2 (rand), j=2 (coloana), adica elementul de pe linia trei, coloana trei a matricei:', a[2][2])\n",
        "\n",
        "print(type(a))"
      ],
      "execution_count": null,
      "outputs": [
        {
          "output_type": "stream",
          "name": "stdout",
          "text": [
            "[[ 12  27  13]\n",
            " [  5  10  99]\n",
            " [  8  78 110]]\n",
            "Elementul i=2 (rand), j=2 (coloana), adica elementul de pe linia trei, coloana trei a matricei: 110\n",
            "<class 'numpy.ndarray'>\n"
          ]
        }
      ]
    },
    {
      "cell_type": "markdown",
      "metadata": {
        "id": "80Yhsg4Jx-Mv"
      },
      "source": [
        "#Exercițiu 1c\n",
        "1. Folosind librăria numpy, creați și afișați o matrice de (5,5) cu elemente aleatorii de la 1 la 100.\n",
        "Utilizați funcția numpy - np.random.randint(nr max, size=(x,x))\n",
        "\n",
        "2. Afișați elementul de la intersecția celor două diagonale ale matricei\n",
        "\n",
        "3. Aranjați crescător elementele de pe a doua coloană a matricei și afișați rezultatul. *funcția numpy sort()*\n",
        "\n",
        "4. Folosiți funcția *size()* și afișați rezultatul\n",
        "\n",
        "5. Afișați lungimea matricei. *funcția len()*\n"
      ]
    },
    {
      "cell_type": "code",
      "metadata": {
        "id": "9UTjthfmySP-",
        "colab": {
          "base_uri": "https://localhost:8080/"
        },
        "outputId": "a92d07c2-8936-4788-8771-34046ed60205"
      },
      "source": [
        "# 1\n",
        "a = np.random.randint(100, size=(5,5))\n",
        "print(a)\n",
        "\n",
        "# 2\n",
        "print('Elementul de la intersectia celor doua diagonale ale matricei:', a[2][2])\n",
        "\n",
        "# 3\n",
        "\n",
        "b = np.sort(a[:,1])\n",
        "print('Elementele sortate crescator de pe a doua coloana a matricei a sunt:',  b)\n",
        "#print(b)\n",
        "\n",
        "# 4\n",
        "c = np.size(a)\n",
        "print('Dimensiunea matricei a este:', c)\n",
        "\n",
        "# 5\n",
        "d = len(a)\n",
        "print('Lungimea matricei a este:', d)"
      ],
      "execution_count": null,
      "outputs": [
        {
          "output_type": "stream",
          "name": "stdout",
          "text": [
            "[[ 4 67 24  7 35]\n",
            " [ 7 29 85 28 38]\n",
            " [72 22 47  9 67]\n",
            " [23 95 83 10 89]\n",
            " [34 48 73  1 67]]\n",
            "Elementul de la intersectia celor doua diagonale ale matricei: 47\n",
            "Elementele sortate crescator de pe a doua coloana a matricei a sunt: [22 29 48 67 95]\n",
            "Dimensiunea matricei a este: 25\n",
            "Lungimea matricei a este: 5\n"
          ]
        }
      ]
    },
    {
      "cell_type": "markdown",
      "metadata": {
        "id": "hL4BKFDH2ViM"
      },
      "source": [
        "#Operații condiționale și repetitive"
      ]
    },
    {
      "cell_type": "markdown",
      "metadata": {
        "id": "xL0uwt4FL3i9"
      },
      "source": [
        "**Operatii conditionale**\n",
        "\n",
        "Sintaxa\n",
        "\n",
        "```\n",
        "if <expression>:\n",
        "  <statement>\n",
        "\n",
        "```\n",
        "```\n",
        "if <expression>:\n",
        "  <statement>\n",
        "else:\n",
        "  <statement>\n",
        "```\n",
        "\n",
        "```\n",
        "if <expression>:\n",
        "  <statement>\n",
        "elif <expression>:\n",
        "  <statement>\n",
        "else <expression>:\n",
        "  statement>\n",
        "```\n",
        "Exemple\n",
        "\n",
        "\n",
        "\n",
        "\n",
        "\n",
        "    \n",
        "  \n",
        "\n",
        "\n"
      ]
    },
    {
      "cell_type": "code",
      "metadata": {
        "id": "dSN-wgaL2g7r"
      },
      "source": [
        "\n"
      ],
      "execution_count": null,
      "outputs": []
    },
    {
      "cell_type": "markdown",
      "metadata": {
        "id": "BtwRhe1AUvKe"
      },
      "source": [
        "**Operatori logici**\n",
        "\n",
        "\n",
        "*   x < y  \n",
        "*   x > y\n",
        "*   x <= y\n",
        "*   x >- y\n",
        "*   x == y\n",
        "*   x != y\n",
        "*   x or y\n",
        "*   x and y\n",
        "\n"
      ]
    },
    {
      "cell_type": "markdown",
      "metadata": {
        "id": "oumcEnY4QHdO"
      },
      "source": [
        "**Operatii repetitive**\n",
        "\n",
        "Sintaxa\n",
        "\n",
        "```\n",
        "for <variabila> in <vector>:\n",
        "  <statement>\n",
        "```\n",
        "\n",
        "\n",
        "```\n",
        "while <expresie>:\n",
        "  <statement>\n",
        "```\n",
        "\n",
        "Exemple\n",
        "\n",
        "\n",
        "\n"
      ]
    },
    {
      "cell_type": "code",
      "metadata": {
        "id": "JCSYqokKMhHf"
      },
      "source": [],
      "execution_count": null,
      "outputs": []
    },
    {
      "cell_type": "code",
      "metadata": {
        "id": "hjXU0o81XYuA"
      },
      "source": [
        "  \n"
      ],
      "execution_count": null,
      "outputs": []
    },
    {
      "cell_type": "code",
      "metadata": {
        "id": "YsEhL1NoZ8Z4"
      },
      "source": [],
      "execution_count": null,
      "outputs": []
    },
    {
      "cell_type": "markdown",
      "metadata": {
        "id": "3LcQNPTLbG_O"
      },
      "source": [
        "# Exercitiu 2a\n",
        "Creati un element aleatoriu intre 1 si 10. Utilizați funcția numpy - np.random.randint(nr max, size=(x,x)). In functie de valoarea elementului, afisati:\n",
        "\n",
        "\n",
        "*   *Numarul generat este mai mic decat 5*\n",
        "*   *Numarul generat este intre 5 si 8*\n",
        "*   *Numarul generat este mai mare decat 8*\n",
        "\n",
        "Afisati numarul generat. \n",
        "\n",
        "\n"
      ]
    },
    {
      "cell_type": "code",
      "metadata": {
        "id": "e5nyreCfcUbt",
        "colab": {
          "base_uri": "https://localhost:8080/"
        },
        "outputId": "1b8c6186-508d-4cf1-ba97-d94bbbca0844"
      },
      "source": [
        "a = np.random.randint(10)\n",
        "print(a)\n",
        "\n",
        "if a < 5:\n",
        "  print('Numarul generat este mai mic decat 5')\n",
        "elif a >= 5 and a <= 8:\n",
        "  print('Numarul generat este intre 5 si 8')\n",
        "else:\n",
        "  print('Numarul generat este mai mare decat 8')\n",
        "\n"
      ],
      "execution_count": null,
      "outputs": [
        {
          "output_type": "stream",
          "name": "stdout",
          "text": [
            "8\n",
            "Numarul generat este intre 5 si 8\n"
          ]
        }
      ]
    },
    {
      "cell_type": "markdown",
      "metadata": {
        "id": "zMXAzXgOcxzN"
      },
      "source": [
        "# Exercitiu 2b\n",
        "Calculati factorial de 10 (10! = 1* 2 * 3 * 4 *....) folosing o functie repetitiva.\n",
        "\n",
        "\n",
        "\n"
      ]
    },
    {
      "cell_type": "code",
      "metadata": {
        "id": "TxPZoICDeTqV",
        "colab": {
          "base_uri": "https://localhost:8080/"
        },
        "outputId": "c4070dee-cf8d-41aa-c384-2fe933a6e016"
      },
      "source": [
        "num = 10\n",
        "factorial = 1\n",
        "\n",
        "for i in range(1, num):\n",
        "  factorial = factorial * i\n",
        "print('Factorial de', num, 'este', factorial)"
      ],
      "execution_count": null,
      "outputs": [
        {
          "output_type": "stream",
          "name": "stdout",
          "text": [
            "Factorial de 10 este 362880\n"
          ]
        }
      ]
    }
  ]
}